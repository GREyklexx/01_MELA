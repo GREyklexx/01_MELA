{
 "cells": [
  {
   "cell_type": "code",
   "execution_count": null,
   "metadata": {},
   "outputs": [],
   "source": []
  },
  {
   "cell_type": "code",
   "execution_count": null,
   "metadata": {},
   "outputs": [],
   "source": [
    "import polars as pl\n",
    "import numpy as np\n",
    "import seaborn as sns\n",
    "import pandas as pd\n",
    "import matplotlib.pyplot as plt\n",
    "\n",
    "# CSV-Datei laden\n",
    "df = pl.read_csv('mpg_from_ggplot2.csv')\n",
    "\n",
    "# Problem 1: Funktion zum Hinzufügen von Rauschen zu einer bestimmten Spalte\n",
    "def add_noise_to_column(df, column_name, mean=0, std=1, seed=None):\n",
    "    if seed:\n",
    "        np.random.seed(seed)\n",
    "    \n",
    "    # Normalverteiltes Rauschen hinzufügen\n",
    "    noise = np.random.normal(mean, std, len(df))\n",
    "    \n",
    "    df = df.with_columns(\n",
    "        (pl.col(column_name) + noise).alias(f\"{column_name}_with_noise\")\n",
    "    )\n",
    "    return df\n",
    "\n",
    "# Beispiel: Hinzufügen von Rauschen zu der Spalte 'cty' (city mpg)\n",
    "df_with_noise = add_noise_to_column(df, 'cty', mean=0, std=1)\n",
    "\n",
    "# Ausgabe zur Überprüfung\n",
    "print(df_with_noise)\n",
    "\n",
    "# Problem 4: Scatterplot erstellen (Originalwerte vs. Werte mit Rauschen)\n",
    "def create_scatterplot(df, original_column, noise_column):\n",
    "    # Polars DataFrame in pandas DataFrame umwandeln\n",
    "    df_pandas = pd.DataFrame(df.to_dict())  # Konvertiere Polars in pandas\n",
    "    \n",
    "    # Scatterplot: Originalwerte vs. Werte mit Rauschen\n",
    "    plt.scatter(df_pandas[original_column], df_pandas[noise_column])\n",
    "    plt.xlabel(f\"Original {original_column}\")\n",
    "    plt.ylabel(f\"{noise_column}\")\n",
    "    plt.title(f\"Scatterplot: {original_column} vs. {noise_column}\")\n",
    "    plt.show()\n",
    "\n",
    "# Beispiel: Scatterplot für die Spalte 'cty' (Originalwerte vs. Werte mit Rauschen)\n",
    "create_scatterplot(df_with_noise, 'cty', 'cty_with_noise')"
   ]
  },
  {
   "cell_type": "code",
   "execution_count": null,
   "metadata": {},
   "outputs": [],
   "source": [
    "df.filter((pl.col('displ') <= 2.5) & (pl.col('displ') >= 1.5))"
   ]
  },
  {
   "cell_type": "code",
   "execution_count": null,
   "metadata": {},
   "outputs": [],
   "source": [
    "df.filter(pl.col('displ').is_in([2.0, 2.1, 2.2, 2.3, 2.4, 2.5, 2.6, 2.7, 2.8]))"
   ]
  },
  {
   "cell_type": "markdown",
   "metadata": {},
   "source": [
    "---\n",
    "title: \"problems_1-dsai-en.qmd\"\n",
    "author: \"FET\"\n",
    "format: html\n",
    "editor: visual\n",
    "---\n",
    "\n",
    "## Problem 1\n",
    "\n",
    "Create a function that takes as input a polars data frame and a column name and returns a data frame with an additional column obtained from the previous one by adding noise. Use a function from `numpy.random` to generate the noise. Use `with_columns` in polars to add a new variable to the dataframe. Inspect by creating a scatter plot.\n",
    "\n",
    "## Problem 2\n",
    "\n",
    "Inspect the documentation of `numpy.random.uniform`. Describe the parameters. Decide, whether this could be a reasonable choice for adding jitter.\n",
    "\n",
    "## Problem 3\n",
    "\n",
    "How can the function in Problem 1 be improved? Which optional parameters could be useful? What can be computed from the original data?\n",
    "\n",
    "## Problem 4\n",
    "\n",
    "Find a dataset from the previous year and create a barplot by using seaborn `countplot`.\n",
    "\n",
    "## Problem 5\n",
    "\n",
    "1.  Find out how you can generate a sequence of coin tosses in numpy.\n",
    "2.  In polars, how can you pick a random sample of observations?"
   ]
  },
  {
   "cell_type": "code",
   "execution_count": null,
   "metadata": {},
   "outputs": [],
   "source": []
  },
  {
   "cell_type": "code",
   "execution_count": null,
   "metadata": {},
   "outputs": [],
   "source": [
    "df.group_by('manufacturer').agg(pl.col('model').count())\n",
    "\n",
    "\n",
    "\n",
    "df.sort('manufacturer')\n"
   ]
  },
  {
   "cell_type": "code",
   "execution_count": 67,
   "metadata": {},
   "outputs": [
    {
     "data": {
      "text/html": [
       "<div><style>\n",
       ".dataframe > thead > tr,\n",
       ".dataframe > tbody > tr {\n",
       "  text-align: right;\n",
       "  white-space: pre-wrap;\n",
       "}\n",
       "</style>\n",
       "<small>shape: (22, 3)</small><table border=\"1\" class=\"dataframe\"><thead><tr><th>manufacturer</th><th>class</th><th>hwy</th></tr><tr><td>str</td><td>str</td><td>f64</td></tr></thead><tbody><tr><td>&quot;dodge&quot;</td><td>&quot;pickup&quot;</td><td>16.142857</td></tr><tr><td>&quot;ford&quot;</td><td>&quot;pickup&quot;</td><td>16.5</td></tr><tr><td>&quot;nissan&quot;</td><td>&quot;suv&quot;</td><td>17.0</td></tr><tr><td>&quot;toyota&quot;</td><td>&quot;suv&quot;</td><td>18.5</td></tr><tr><td>&quot;ford&quot;</td><td>&quot;suv&quot;</td><td>19.0</td></tr><tr><td>&hellip;</td><td>&hellip;</td><td>&hellip;</td></tr><tr><td>&quot;nissan&quot;</td><td>&quot;compact&quot;</td><td>29.0</td></tr><tr><td>&quot;volkswagen&quot;</td><td>&quot;compact&quot;</td><td>29.625</td></tr><tr><td>&quot;honda&quot;</td><td>&quot;subcompact&quot;</td><td>31.4</td></tr><tr><td>&quot;toyota&quot;</td><td>&quot;compact&quot;</td><td>31.6</td></tr><tr><td>&quot;volkswagen&quot;</td><td>&quot;subcompact&quot;</td><td>33.666667</td></tr></tbody></table></div>"
      ],
      "text/plain": [
       "shape: (22, 3)\n",
       "┌──────────────┬────────────┬───────────┐\n",
       "│ manufacturer ┆ class      ┆ hwy       │\n",
       "│ ---          ┆ ---        ┆ ---       │\n",
       "│ str          ┆ str        ┆ f64       │\n",
       "╞══════════════╪════════════╪═══════════╡\n",
       "│ dodge        ┆ pickup     ┆ 16.142857 │\n",
       "│ ford         ┆ pickup     ┆ 16.5      │\n",
       "│ nissan       ┆ suv        ┆ 17.0      │\n",
       "│ toyota       ┆ suv        ┆ 18.5      │\n",
       "│ ford         ┆ suv        ┆ 19.0      │\n",
       "│ …            ┆ …          ┆ …         │\n",
       "│ nissan       ┆ compact    ┆ 29.0      │\n",
       "│ volkswagen   ┆ compact    ┆ 29.625    │\n",
       "│ honda        ┆ subcompact ┆ 31.4      │\n",
       "│ toyota       ┆ compact    ┆ 31.6      │\n",
       "│ volkswagen   ┆ subcompact ┆ 33.666667 │\n",
       "└──────────────┴────────────┴───────────┘"
      ]
     },
     "execution_count": 67,
     "metadata": {},
     "output_type": "execute_result"
    }
   ],
   "source": [
    "df.filter(pl.col('trans').str.contains('manual')).group_by('manufacturer', 'class').agg(pl.col('hwy').mean()).sort('hwy')\n",
    "\n",
    "\n",
    "# Alle manuell schaltbaren Autos, sortiert nach Hersteller und Klasse, mit durchschnittlichem Autobahnverbrauch\n"
   ]
  }
 ],
 "metadata": {
  "kernelspec": {
   "display_name": "base",
   "language": "python",
   "name": "python3"
  },
  "language_info": {
   "codemirror_mode": {
    "name": "ipython",
    "version": 3
   },
   "file_extension": ".py",
   "mimetype": "text/x-python",
   "name": "python",
   "nbconvert_exporter": "python",
   "pygments_lexer": "ipython3",
   "version": "3.12.4"
  }
 },
 "nbformat": 4,
 "nbformat_minor": 2
}
